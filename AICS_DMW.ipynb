{
  "nbformat": 4,
  "nbformat_minor": 0,
  "metadata": {
    "colab": {
      "private_outputs": true,
      "provenance": [],
      "toc_visible": true,
      "authorship_tag": "ABX9TyOUjTQKaN2+hX+2LWb0Ttkd"
    },
    "kernelspec": {
      "name": "python3",
      "display_name": "Python 3"
    },
    "language_info": {
      "name": "python"
    }
  },
  "cells": [
    {
      "cell_type": "markdown",
      "source": [
        "# Assignment 1\n",
        "Build a spam filter using Python and the Naive Bayes algorithm."
      ],
      "metadata": {
        "id": "Lm7k5eaLiQ9z"
      }
    },
    {
      "cell_type": "code",
      "execution_count": null,
      "metadata": {
        "id": "MkBV8wTZPLgR"
      },
      "outputs": [],
      "source": [
        "#import required dependencies\n",
        "import pandas as pd\n",
        "import numpy as np\n",
        "from sklearn.model_selection import train_test_split\n",
        "from sklearn.feature_extraction.text import CountVectorizer\n",
        "from sklearn.naive_bayes import MultinomialNB"
      ]
    },
    {
      "cell_type": "code",
      "source": [
        "#read Dataset\n",
        "df = pd.read_csv('spam.csv')"
      ],
      "metadata": {
        "id": "QvAYuj0TQGt7"
      },
      "execution_count": null,
      "outputs": []
    },
    {
      "cell_type": "code",
      "source": [
        "#convert cateogorical Data into Numerical and store in another columns\n",
        "df['spam'] = df['Category'].apply(lambda x:1 if x == 'spam' else 0)"
      ],
      "metadata": {
        "id": "TZS8QeOfRp8v"
      },
      "execution_count": null,
      "outputs": []
    },
    {
      "cell_type": "code",
      "source": [
        "#create train_test-split\n",
        "x_train, x_test, y_train, y_test = train_test_split(X, df.spam, test_size=0.25)"
      ],
      "metadata": {
        "id": "NG90rAlBSUzd"
      },
      "execution_count": null,
      "outputs": []
    },
    {
      "cell_type": "code",
      "source": [
        "#transform data\n",
        "cv = CountVectorizer()\n",
        "X = cv.fit_transform(df.Message)"
      ],
      "metadata": {
        "id": "ziOYnPxqb67T"
      },
      "execution_count": null,
      "outputs": []
    },
    {
      "cell_type": "code",
      "source": [
        "#train model\n",
        "model = MultinomialNB()\n",
        "model.fit(x_train, y_train)"
      ],
      "metadata": {
        "id": "GvQoMzi_ehE-"
      },
      "execution_count": null,
      "outputs": []
    },
    {
      "cell_type": "code",
      "source": [
        "#lets test our model\n",
        "email_ham = ['Rofl. Its true to its name\t']\n",
        "data = cv.transform(email_ham)\n",
        "model.predict(data)"
      ],
      "metadata": {
        "id": "SJEmyGWlfYLH"
      },
      "execution_count": null,
      "outputs": []
    },
    {
      "cell_type": "code",
      "source": [
        "email_spam = [\"Free entry in 2 Text FA to 87121 to receive entry question(std txt rate)T&C's apply 08452810075over18's\"]\n",
        "data = cv.transform(email_spam)\n",
        "model.predict(data)"
      ],
      "metadata": {
        "id": "ltneGsfFgQJk"
      },
      "execution_count": null,
      "outputs": []
    },
    {
      "cell_type": "code",
      "source": [
        "#lets check the score of our model\n",
        "model.score(x_test, y_test)"
      ],
      "metadata": {
        "id": "QFNzDHPChoPC"
      },
      "execution_count": null,
      "outputs": []
    },
    {
      "cell_type": "markdown",
      "source": [
        "# Assignment 3\n",
        "Split sample data into training and test sets.(Use suitable data set)"
      ],
      "metadata": {
        "id": "jbQE4z2PioV0"
      }
    },
    {
      "cell_type": "code",
      "source": [
        "#import required libraries\n",
        "import pandas as pd\n",
        "from sklearn.model_selection import train_test_split"
      ],
      "metadata": {
        "id": "CzkUPEQoiybv"
      },
      "execution_count": null,
      "outputs": []
    },
    {
      "cell_type": "code",
      "source": [
        "#read dataset\n",
        "df = pd.read_csv('spam.csv')"
      ],
      "metadata": {
        "id": "Yso1M4bMjKi4"
      },
      "execution_count": null,
      "outputs": []
    },
    {
      "cell_type": "code",
      "source": [
        "df.head()"
      ],
      "metadata": {
        "id": "t7zhV5Kpj8Nd"
      },
      "execution_count": null,
      "outputs": []
    },
    {
      "cell_type": "code",
      "source": [
        "x_train, x_test, y_train, y_test = train_test_split(df.Message, df.Category, test_size=0.25)"
      ],
      "metadata": {
        "id": "iadagfq6j9gS"
      },
      "execution_count": null,
      "outputs": []
    },
    {
      "cell_type": "code",
      "source": [
        "x_train.head()"
      ],
      "metadata": {
        "id": "3lskX8o5kVVk"
      },
      "execution_count": null,
      "outputs": []
    },
    {
      "cell_type": "code",
      "source": [
        "y_train.head()"
      ],
      "metadata": {
        "id": "RMtH-X3jkXiF"
      },
      "execution_count": null,
      "outputs": []
    },
    {
      "cell_type": "code",
      "source": [
        "x_test.head()"
      ],
      "metadata": {
        "id": "z5pszRRpkc9c"
      },
      "execution_count": null,
      "outputs": []
    },
    {
      "cell_type": "code",
      "source": [
        "y_test.head()"
      ],
      "metadata": {
        "id": "KgmCFiuDkgjk"
      },
      "execution_count": null,
      "outputs": []
    },
    {
      "cell_type": "markdown",
      "source": [
        "# Assignment 4\n",
        "Perform feature engineering operations on raw data. (Use suitable data set)"
      ],
      "metadata": {
        "id": "qCxe8optksFw"
      }
    },
    {
      "cell_type": "code",
      "source": [
        "#import required libraries\n",
        "import pandas as pd\n",
        "import numpy as np"
      ],
      "metadata": {
        "id": "dhdurOrqInPa"
      },
      "execution_count": null,
      "outputs": []
    },
    {
      "cell_type": "code",
      "source": [
        "#lets create dataset\n",
        "df = pd.DataFrame({\n",
        "    'Name': ['sopan', 'yuvraj', 'manshi', 'rushikesh', 'sakshi'],\n",
        "    'Roll_num' : [21, 17, 10, 18, 31],\n",
        "    'Admission_year' : [2020, 2021, 2020, 2019, 2021]\n",
        "})\n",
        "df"
      ],
      "metadata": {
        "id": "ZXjzZfzXXLQn"
      },
      "execution_count": null,
      "outputs": []
    },
    {
      "cell_type": "markdown",
      "source": [
        "1. **Feature Generation**"
      ],
      "metadata": {
        "id": "IsM8OfbPak2A"
      }
    },
    {
      "cell_type": "code",
      "source": [
        "#create new feature\n",
        "df['Gender'] = ['M', 'M', 'F', 'M', 'F']\n",
        "df"
      ],
      "metadata": {
        "id": "WgfciPuxYBvt"
      },
      "execution_count": null,
      "outputs": []
    },
    {
      "cell_type": "markdown",
      "source": [
        "2. **Feature Transformation**"
      ],
      "metadata": {
        "id": "2MC1xYlTanZ3"
      }
    },
    {
      "cell_type": "code",
      "source": [
        "#transforming categorical feature into numerical \n",
        "df['G'] = df['Gender'].apply(lambda x: 1 if x == 'M' else 0)\n",
        "df"
      ],
      "metadata": {
        "id": "DdMvxgvhx0nr"
      },
      "execution_count": null,
      "outputs": []
    },
    {
      "cell_type": "markdown",
      "source": [
        "3. **Feature Extraction**"
      ],
      "metadata": {
        "id": "FZ4gMM_Xi0Xj"
      }
    },
    {
      "cell_type": "code",
      "source": [
        "from sklearn import datasets"
      ],
      "metadata": {
        "id": "7QZENBVsi-Ia"
      },
      "execution_count": null,
      "outputs": []
    },
    {
      "cell_type": "code",
      "source": [
        "df = datasets.load_iris()\n",
        "df.feature_names"
      ],
      "metadata": {
        "id": "qLF8qgQ2jJg4"
      },
      "execution_count": null,
      "outputs": []
    },
    {
      "cell_type": "code",
      "source": [
        "df.data"
      ],
      "metadata": {
        "id": "PxEDe-QIjSru"
      },
      "execution_count": null,
      "outputs": []
    },
    {
      "cell_type": "markdown",
      "source": [
        "4. **Feature Selection**"
      ],
      "metadata": {
        "id": "gxeuyCQ4j6ov"
      }
    },
    {
      "cell_type": "code",
      "source": [
        "from sklearn.datasets import load_sample_images\n",
        "from sklearn.feature_extraction import image"
      ],
      "metadata": {
        "id": "8CcyA8AUjwbm"
      },
      "execution_count": null,
      "outputs": []
    },
    {
      "cell_type": "code",
      "source": [
        "#access the second image from dataset\n",
        "x = load_sample_images().images[1]\n",
        "x.shape"
      ],
      "metadata": {
        "id": "ie10k2SamnSL"
      },
      "execution_count": null,
      "outputs": []
    },
    {
      "cell_type": "code",
      "source": [
        "model = image.PatchExtractor(patch_size=(2,2))\n",
        "ft = model.fit(x)\n",
        "pt = model.transform(x)\n",
        "pt.shape"
      ],
      "metadata": {
        "id": "I8T2uVCFp07k"
      },
      "execution_count": null,
      "outputs": []
    },
    {
      "cell_type": "markdown",
      "source": [
        "# DMW: Apriori\n",
        "Write a program of Apriori algorithm using any programming language."
      ],
      "metadata": {
        "id": "jc71F5enzATe"
      }
    },
    {
      "cell_type": "code",
      "source": [
        "#import required libraries\n",
        "import pandas as pd\n",
        "from mlxtend.preprocessing import TransactionEncoder\n",
        "from mlxtend.frequent_patterns import apriori, association_rules"
      ],
      "metadata": {
        "id": "W4j3P18QzGjj"
      },
      "execution_count": null,
      "outputs": []
    },
    {
      "cell_type": "code",
      "source": [
        "dataset = [\n",
        "    ['milk', 'onion', 'numeg', 'kidney beans', 'eggs', 'yogurt'],\n",
        "    ['dill', 'onion', 'numeg', 'kidney beans', 'eggs', 'yogurt'],\n",
        "    ['milk', 'apple', 'kidney beans', 'eggs'],\n",
        "    ['milk', 'unicorn', 'corn', 'kidney beans', 'yogurts'],\n",
        "    ['corn', 'onion', 'onion', 'kidney beans', 'ice creams', 'eggs']\n",
        "]"
      ],
      "metadata": {
        "id": "J7YD59R30CzU"
      },
      "execution_count": null,
      "outputs": []
    },
    {
      "cell_type": "code",
      "source": [
        "#creating TransactionEncoder object\n",
        "te = TransactionEncoder()\n",
        "\n",
        "#fit and tranform the data\n",
        "tranform_data = te.fit_transform(dataset)"
      ],
      "metadata": {
        "id": "zBlvlCRu0FU4"
      },
      "execution_count": null,
      "outputs": []
    },
    {
      "cell_type": "code",
      "source": [
        "#convert into dataframe\n",
        "df = pd.DataFrame(tranform_data, columns = te.columns_)"
      ],
      "metadata": {
        "id": "uPm5dKjS0IZx"
      },
      "execution_count": null,
      "outputs": []
    },
    {
      "cell_type": "code",
      "source": [
        "#extract frequent item by using apriori() function\n",
        "frequent_item = apriori(df, min_support=0.7, use_colnames=True)\n",
        "frequent_item"
      ],
      "metadata": {
        "id": "HtsPonVB0LJB"
      },
      "execution_count": null,
      "outputs": []
    },
    {
      "cell_type": "code",
      "source": [
        "#generate association rules using association_rules() function\n",
        "result = association_rules(frequent_item, min_threshold=0.8)"
      ],
      "metadata": {
        "id": "fEIWeH2i0Sen"
      },
      "execution_count": null,
      "outputs": []
    },
    {
      "cell_type": "code",
      "source": [
        "result[['antecedents', 'consequents', 'support', 'confidence', 'lift']].sort_values('confidence', ascending=False)"
      ],
      "metadata": {
        "id": "vGf3CBOG0VVP"
      },
      "execution_count": null,
      "outputs": []
    },
    {
      "cell_type": "code",
      "source": [],
      "metadata": {
        "id": "2_NRMYPb0X8o"
      },
      "execution_count": null,
      "outputs": []
    }
  ]
}