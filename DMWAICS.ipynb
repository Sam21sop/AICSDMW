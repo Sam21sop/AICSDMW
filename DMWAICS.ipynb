{
  "nbformat": 4,
  "nbformat_minor": 0,
  "metadata": {
    "colab": {
      "private_outputs": true,
      "provenance": [],
      "collapsed_sections": [
        "Lm7k5eaLiQ9z",
        "jbQE4z2PioV0"
      ],
      "toc_visible": true,
      "authorship_tag": "ABX9TyM4mr7lYn7NHqmwgvK7uwjG"
    },
    "kernelspec": {
      "name": "python3",
      "display_name": "Python 3"
    },
    "language_info": {
      "name": "python"
    }
  },
  "cells": [
    {
      "cell_type": "markdown",
      "source": [
        "# Assignment 1\n",
        "Build a spam filter using Python and the Naive Bayes algorithm."
      ],
      "metadata": {
        "id": "Lm7k5eaLiQ9z"
      }
    },
    {
      "cell_type": "code",
      "execution_count": null,
      "metadata": {
        "id": "MkBV8wTZPLgR"
      },
      "outputs": [],
      "source": [
        "#import required dependencies\n",
        "import pandas as pd\n",
        "import numpy as np\n",
        "from sklearn.model_selection import train_test_split\n",
        "from sklearn.feature_extraction.text import CountVectorizer\n",
        "from sklearn.naive_bayes import MultinomialNB"
      ]
    },
    {
      "cell_type": "code",
      "source": [
        "#read Dataset\n",
        "df = pd.read_csv('spam.csv')"
      ],
      "metadata": {
        "id": "QvAYuj0TQGt7"
      },
      "execution_count": null,
      "outputs": []
    },
    {
      "cell_type": "code",
      "source": [
        "#convert cateogorical Data into Numerical and store in another columns\n",
        "df['spam'] = df['Category'].apply(lambda x:1 if x == 'spam' else 0)"
      ],
      "metadata": {
        "id": "TZS8QeOfRp8v"
      },
      "execution_count": null,
      "outputs": []
    },
    {
      "cell_type": "code",
      "source": [
        "#create train_test-split\n",
        "x_train, x_test, y_train, y_test = train_test_split(X, df.spam, test_size=0.25)"
      ],
      "metadata": {
        "id": "NG90rAlBSUzd"
      },
      "execution_count": null,
      "outputs": []
    },
    {
      "cell_type": "code",
      "source": [
        "#transform data\n",
        "cv = CountVectorizer()\n",
        "X = cv.fit_transform(df.Message)"
      ],
      "metadata": {
        "id": "ziOYnPxqb67T"
      },
      "execution_count": null,
      "outputs": []
    },
    {
      "cell_type": "code",
      "source": [
        "#train model\n",
        "model = MultinomialNB()\n",
        "model.fit(x_train, y_train)"
      ],
      "metadata": {
        "id": "GvQoMzi_ehE-"
      },
      "execution_count": null,
      "outputs": []
    },
    {
      "cell_type": "code",
      "source": [
        "#lets test our model\n",
        "email_ham = ['Rofl. Its true to its name\t']\n",
        "data = cv.transform(email_ham)\n",
        "model.predict(data)"
      ],
      "metadata": {
        "id": "SJEmyGWlfYLH"
      },
      "execution_count": null,
      "outputs": []
    },
    {
      "cell_type": "code",
      "source": [
        "email_spam = [\"Free entry in 2 Text FA to 87121 to receive entry question(std txt rate)T&C's apply 08452810075over18's\"]\n",
        "data = cv.transform(email_spam)\n",
        "model.predict(data)"
      ],
      "metadata": {
        "id": "ltneGsfFgQJk"
      },
      "execution_count": null,
      "outputs": []
    },
    {
      "cell_type": "code",
      "source": [
        "#lets check the score of our model\n",
        "model.score(x_test, y_test)"
      ],
      "metadata": {
        "id": "QFNzDHPChoPC"
      },
      "execution_count": null,
      "outputs": []
    },
    {
      "cell_type": "markdown",
      "source": [
        "# Assignment 3\n",
        "Split sample data into training and test sets.(Use suitable data set)"
      ],
      "metadata": {
        "id": "jbQE4z2PioV0"
      }
    },
    {
      "cell_type": "code",
      "source": [
        "#import required libraries\n",
        "import pandas as pd\n",
        "from sklearn.model_selection import train_test_split"
      ],
      "metadata": {
        "id": "CzkUPEQoiybv"
      },
      "execution_count": null,
      "outputs": []
    },
    {
      "cell_type": "code",
      "source": [
        "#read dataset\n",
        "df = pd.read_csv('spam.csv')"
      ],
      "metadata": {
        "id": "Yso1M4bMjKi4"
      },
      "execution_count": null,
      "outputs": []
    },
    {
      "cell_type": "code",
      "source": [
        "df.head()"
      ],
      "metadata": {
        "id": "t7zhV5Kpj8Nd"
      },
      "execution_count": null,
      "outputs": []
    },
    {
      "cell_type": "code",
      "source": [
        "x_train, x_test, y_train, y_test = train_test_split(df.Message, df.Category, test_size=0.25)"
      ],
      "metadata": {
        "id": "iadagfq6j9gS"
      },
      "execution_count": null,
      "outputs": []
    },
    {
      "cell_type": "code",
      "source": [
        "x_train.head()"
      ],
      "metadata": {
        "id": "3lskX8o5kVVk"
      },
      "execution_count": null,
      "outputs": []
    },
    {
      "cell_type": "code",
      "source": [
        "y_train.head()"
      ],
      "metadata": {
        "id": "RMtH-X3jkXiF"
      },
      "execution_count": null,
      "outputs": []
    },
    {
      "cell_type": "code",
      "source": [
        "x_test.head()"
      ],
      "metadata": {
        "id": "z5pszRRpkc9c"
      },
      "execution_count": null,
      "outputs": []
    },
    {
      "cell_type": "code",
      "source": [
        "y_test.head()"
      ],
      "metadata": {
        "id": "KgmCFiuDkgjk"
      },
      "execution_count": null,
      "outputs": []
    },
    {
      "cell_type": "markdown",
      "source": [
        "# Assignment 4\n",
        "Perform feature engineering operations on raw data. (Use suitable data set)"
      ],
      "metadata": {
        "id": "qCxe8optksFw"
      }
    },
    {
      "cell_type": "markdown",
      "source": [
        "\n",
        "\n",
        "1. Feature Generation\n",
        "2. Feature Transformation\n",
        "3. Feature Extraction\n",
        "4. Feature Selection\n",
        "5. Feature Scaling\n",
        "\n"
      ],
      "metadata": {
        "id": "phoqWOJbk8ut"
      }
    },
    {
      "cell_type": "code",
      "source": [],
      "metadata": {
        "id": "dhdurOrqInPa"
      },
      "execution_count": null,
      "outputs": []
    }
  ]
}